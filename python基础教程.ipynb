{
 "cells": [
  {
   "cell_type": "code",
   "execution_count": null,
   "metadata": {},
   "outputs": [],
   "source": [
    "#ex001 局部变量和全局变量\n",
    "\n",
    "def fun():\n",
    "    local=1\n",
    "    print(local)\n",
    "\n",
    "fun()\n",
    "print(local)\n"
   ]
  },
  {
   "cell_type": "code",
   "execution_count": null,
   "metadata": {},
   "outputs": [],
   "source": [
    "#ex002 局部变量和全局变量\n",
    "_a=1\n",
    "_b=2\n",
    "\n",
    "def add():\n",
    "    global _a\n",
    "    _a=3\n",
    "    return \"_a+_b = \",_a+_b\n",
    "\n",
    "def sub():\n",
    "    global _b\n",
    "    _b=4\n",
    "    return \"_a--b = \",_a-_b\n",
    "\n",
    "print(add())\n",
    "print(sub())"
   ]
  },
  {
   "cell_type": "code",
   "execution_count": null,
   "metadata": {},
   "outputs": [],
   "source": [
    "#ex003 在外部定义全局变量\n",
    "import ex004_gl\n",
    "\n",
    "def fun():\n",
    "    print(ex004_gl._a)\n",
    "    print(ex004_gl._b)\n",
    "\n",
    "fun()"
   ]
  },
  {
   "cell_type": "code",
   "execution_count": null,
   "metadata": {},
   "outputs": [],
   "source": [
    "#ex004 全局变量，例ex004使用\n",
    "_a=1\n",
    "_b=2\n"
   ]
  },
  {
   "cell_type": "code",
   "execution_count": null,
   "metadata": {},
   "outputs": [],
   "source": [
    "#ex005 元组函数的应用\n",
    "pets=('dog','cat','bird','dog')\n",
    "print(pets)\n",
    "for i in range(len(pets)): #遍历元组\n",
    "    print(pets[i])\n",
    "print('bird' in pets)\n",
    "print('cow' in pets)\n",
    "print(pets.count('dog'))\n",
    "print(pets.index('dog'))\n",
    "print(pets.index('mouse'))"
   ]
  },
  {
   "cell_type": "code",
   "execution_count": null,
   "metadata": {},
   "outputs": [],
   "source": [
    "#创建列表\n",
    "numbers1=[7,-7,2,3,2]\n",
    "print(numbers1)\n",
    "print(type(numbers1))\n",
    "numbers2=[7]\n",
    "print(numbers2)\n",
    "print(type(numbers2))\n",
    "numbers3=[]\n",
    "print(numbers3)\n",
    "print(type(numbers3))\n",
    "\n",
    "numbers2=[7,]\n",
    "print(numbers2)\n",
    "print(type(numbers2))\n"
   ]
  },
  {
   "cell_type": "code",
   "execution_count": null,
   "metadata": {},
   "outputs": [],
   "source": [
    "# 3-7:函数与列表\n",
    "def applyToEach(L,f):\n",
    "    for i in range(len(L)):\n",
    "        L[i]=f(L[i])\n",
    "\n",
    "L=[1,-2,3.4]\n",
    "\n",
    "def fact(n):\n",
    "    if n==1:\n",
    "        return 1\n",
    "    else:return n*fact(n-1)\n",
    "\n",
    "def fib(n):\n",
    "    if n==0 or n==1:\n",
    "        return 1\n",
    "    else:return fib(n-1)+fib(n-2)\n",
    "\n",
    "#applyToEach(L, abs)\n",
    "print(L)\n",
    "applyToEach(L, int)\n",
    "print(L)\n",
    "applyToEach(L, fact)\n",
    "print(L)\n",
    "applyToEach(L, fib)\n",
    "print(L)\n"
   ]
  },
  {
   "cell_type": "code",
   "execution_count": null,
   "metadata": {},
   "outputs": [],
   "source": [
    "# 字典的创建、添加、删除和修改\n",
    "dict={'a':'apple','b':'banana','g':'grape','o':'orage'} #创建字典\n",
    "print(dict)\n",
    "dict['w']='watermelon' #添加字典元素\n",
    "print(dict)\n",
    "del(dict['a']) #删除字典中键为'a'的元素\n",
    "print(dict)\n",
    "dict['g']='grapefruit'\n",
    "print(dict)\n"
   ]
  },
  {
   "cell_type": "code",
   "execution_count": null,
   "metadata": {},
   "outputs": [],
   "source": [
    "#单分支\n",
    "x = input('Input two number:')\n",
    "a, b = map(int, x.split())\n",
    "if a > b:\n",
    "   a, b = b, a    #序列解包，交换两个变量的值\n",
    "print(a, b)"
   ]
  },
  {
   "cell_type": "code",
   "execution_count": null,
   "metadata": {},
   "outputs": [],
   "source": [
    "#双分支\n",
    "\n",
    "chTest = ['1', '2', '3', '4', '5']\n",
    "if chTest:\n",
    "\t  print(chTest)\n",
    "else:\n",
    "\t  print('Empty')\n"
   ]
  },
  {
   "cell_type": "code",
   "execution_count": null,
   "metadata": {},
   "outputs": [],
   "source": [
    "#fo循环例子：使用循环结构遍历并输出列表中的所有元素\n",
    "a_list = ['a', 'b', 'mpilgrim', 'z', 'example']\n",
    "for i, v in enumerate(a_list):\n",
    "    print('列表的第', i+1, '个元素是：', v)\n"
   ]
  },
  {
   "cell_type": "code",
   "execution_count": null,
   "metadata": {},
   "outputs": [],
   "source": [
    "#break与continue语句：计算小于100的最大素数。\n",
    "\n",
    "for n in range(100, 1, -1):\n",
    "    if n%2 == 0:\n",
    "        continue\n",
    "    for i in range(3, int(n**0.5)+1, 2):\n",
    "        if n%i == 0:\n",
    "            #结束内循环\n",
    "            break\n",
    "    else:\n",
    "        print(n)\n",
    "        #结束外循环\n",
    "        break\n"
   ]
  },
  {
   "cell_type": "code",
   "execution_count": null,
   "metadata": {},
   "outputs": [],
   "source": [
    "#嵌套函数定义1：\n",
    "def func():\n",
    "    x=1\n",
    "    y=2\n",
    "    m=3\n",
    "    n=4\n",
    "    def sum(a,b):\n",
    "        return a+b\n",
    "    def sub(a,b):\n",
    "        return a-b\n",
    "    return sum(x,y)*sub(m,n)\n"
   ]
  },
  {
   "cell_type": "code",
   "execution_count": null,
   "metadata": {},
   "outputs": [],
   "source": [
    "#嵌套函数定义2\n",
    "def linear(a, b):\n",
    "    def result(x):              #在Python中，函数是可以嵌套定义的\n",
    "        return a * x + b\n",
    "    return result               #返回可被调用的函数\n"
   ]
  },
  {
   "cell_type": "code",
   "execution_count": null,
   "metadata": {},
   "outputs": [],
   "source": [
    "#关键字参数\n",
    "\n",
    "def shop(where ='store',what='pasta',howmuch='10 pounds'):\n",
    "    print('I want you to go to the',where,'and buy',howmuch,'of', what+'.')\n",
    "    \n",
    "shop()\n",
    "shop(what='towels')\n",
    "shop(howmuch='a ton',what='towels')\n",
    "shop(howmuch='a ton',what='towels',where='bakery')\n"
   ]
  },
  {
   "cell_type": "code",
   "execution_count": null,
   "metadata": {},
   "outputs": [],
   "source": [
    "#Generator函数:使用一般方法求Fibonacci数列的前N项\n",
    "def fab(max):\n",
    "    n,a,b=0,0,1\n",
    "    while n<max:\n",
    "        print(b)\n",
    "        a,b=b,a+b\n",
    "        n=n+1\n"
   ]
  },
  {
   "cell_type": "code",
   "execution_count": null,
   "metadata": {},
   "outputs": [],
   "source": [
    "#Generator函数:使用列表List求Fibonacci数列的前N项\n",
    "def fab(max):\n",
    "    n,a,b=0,0,1\n",
    "    L=[]\n",
    "    while n<max:\n",
    "        L.append(b)\n",
    "        a,b=b,a+b\n",
    "        n=n+1\n",
    "    return L\n"
   ]
  },
  {
   "cell_type": "code",
   "execution_count": null,
   "metadata": {},
   "outputs": [],
   "source": [
    "#Generator函数:使用yield函数求Fibonacci数列的前N项\n",
    "def fab(max):\n",
    "    n,a,b=0,0,1\n",
    "    while n<max:\n",
    "        yield b\n",
    "        #print(b)\n",
    "        a,b=b,a+b\n",
    "        n=n+1\n"
   ]
  },
  {
   "cell_type": "markdown",
   "metadata": {},
   "source": [
    "## 编程基础2"
   ]
  },
  {
   "cell_type": "code",
   "execution_count": null,
   "metadata": {},
   "outputs": [],
   "source": [
    "#ex001:文件的创建、写入和关闭\n",
    "\n",
    "def make_story():\n",
    "    f=open('story.txt','w')\n",
    "    f.write('Marry had s little lamb,\\n')\n",
    "    f.write('and then she had some more.\\n')\n",
    "    f.close()\n",
    "\n",
    "make_story()\n",
    "\n",
    "#在文件末尾添加信息\n",
    "\n",
    "def add_to_story(line,fname='story.txt'):\n",
    "    f=open(fname,'a')\n",
    "    f.write(line)\n",
    "    f.close()\n",
    "\n",
    "add_to_story('haha!\\n')\n"
   ]
  },
  {
   "cell_type": "code",
   "execution_count": null,
   "metadata": {},
   "outputs": [],
   "source": [
    "#ex002.py:使用readline()读文件\n",
    "f=open(\"story.txt\")\n",
    "while True:\n",
    "    line = f.readline()\n",
    "    if line:\n",
    "        print(line)\n",
    "    else:\n",
    "        break\n",
    "f.close\n"
   ]
  },
  {
   "cell_type": "code",
   "execution_count": null,
   "metadata": {},
   "outputs": [],
   "source": [
    "#ex003.py: 使用read()返回指定字节的内容\n",
    "f=open('story.txt')\n",
    "context=f.read(5)  #读取文件前5个字节的内容\n",
    "print(context)\n",
    "print(f.tell())    #返回文件对象当前指针的位置\n",
    "\n",
    "context=f.read(10) #继续读取10个字节的内容\n",
    "print(context)\n",
    "print(f.tell())    #输出文件当前的位置\n",
    "\n",
    "f.close()\n"
   ]
  },
  {
   "cell_type": "code",
   "execution_count": null,
   "metadata": {},
   "outputs": [],
   "source": [
    "#ex004.py: 使用writelines()写文件\n",
    "f1=open('hello1.txt','w+')\n",
    "f2=open('hello2.txt','w+')\n",
    "\n",
    "str='hello world!\\nhello China!\\n' \n",
    "context=['hello world!\\n','hello China!\\n']\n",
    "f1.writelines(context)\n",
    "f2.write(str)\n",
    "f1.close()\n",
    "f2.close()\n"
   ]
  },
  {
   "cell_type": "code",
   "execution_count": null,
   "metadata": {},
   "outputs": [],
   "source": [
    "#ex005.py:文件删除\n",
    "\n",
    "#open('hello1.txt','w')\n",
    "import os\n",
    "if os.path.exists('hello2.txt'):\n",
    "    os.remove('hello2.txt')\n"
   ]
  },
  {
   "cell_type": "code",
   "execution_count": null,
   "metadata": {},
   "outputs": [],
   "source": [
    "#ex006.py:用read()、write()实现文件复制\n",
    "#创建文件hello.txt\n",
    "src=open('hello.txt','w')\n",
    "context=['hello world!\\n','hello China!\\n']\n",
    "src.writelines(context)\n",
    "src.close()\n",
    "\n",
    "#将hello.txt复制到hello2.txt\n",
    "src=open('hello.txt','r')\n",
    "dst=open('hello2.txt','w')\n",
    "dst.write(src.read())\n",
    "src.close()\n",
    "dst.close()\n",
    "\n"
   ]
  },
  {
   "cell_type": "code",
   "execution_count": null,
   "metadata": {},
   "outputs": [],
   "source": [
    "#ex007.py:使用shutil模块实现文件的复制和移动\n",
    "import shutil\n",
    "\n",
    "#将hello.txt的内容复制给hello2.txt\n",
    "shutil.copyfile('hello.txt','hello2.txt')\n",
    "\n",
    "#将hello2.txt移动到当前目录的父目录\n",
    "shutil.move('hello2.txt','../')\n",
    "\n",
    "#将hello.txt移动到当前目录，重命名为hello3.txt\n",
    "shutil.move('hello.txt','hello3.txt')\n",
    "\n"
   ]
  },
  {
   "cell_type": "code",
   "execution_count": null,
   "metadata": {},
   "outputs": [],
   "source": [
    "#ex008.py:修改文件名\n",
    "import os\n",
    "\n",
    "ls=os.listdir('.') #返回当前目录的文件列表\n",
    "print(ls)\n",
    "if 'hello3.txt' in ls:\n",
    "    os.rename('hello3.txt','hello.txt')\n"
   ]
  },
  {
   "cell_type": "code",
   "execution_count": null,
   "metadata": {},
   "outputs": [],
   "source": [
    "#ex009.py:修改文件后缀名\n",
    "import os\n",
    "\n",
    "files=os.listdir('.') #返回当前目录的文件列表\n",
    "#print(type(files))\n",
    "#print(files)\n",
    "print(\" \")\n",
    "for filename in files:      #获取当前目录中的每个文件名\n",
    "    #print(type(filename))\n",
    "    #print(filename)\n",
    "    pos = filename.find('.')  #查找'.'的所在位置\n",
    "    #print(type(filename[pos+1:]))\n",
    "    #print(filename[pos+1:])\n",
    "    #print(\" \")\n",
    "    if filename[pos+1:]=='html':  #判断后缀是否为html\n",
    "        newname=filename[:pos+1]+'htm'  #若是html，则该为htm\n",
    "        os.rename(filename,newname)   #重命名\n"
   ]
  },
  {
   "cell_type": "code",
   "execution_count": null,
   "metadata": {},
   "outputs": [],
   "source": [
    "#ex010.py:pickle二进制文件存取\n",
    "import pickle\n",
    "\n",
    "def make_picked_file():\n",
    "    grades={'tom':[84,88,90,90],\n",
    "            'jack':[77,87,97,88],\n",
    "            'marry':[85,None,90,90],\n",
    "            'alan':[100,88,90,95]}\n",
    "    outfile=open('grades.dat','wb')\n",
    "    pickle.dump(grades,outfile)\n",
    "\n",
    "def get_pickle_data():\n",
    "    infile=open('grades.dat','rb')\n",
    "    grades=pickle.load(infile)\n",
    "    return grades\n",
    "\n",
    "make_picked_file()\n",
    "print(get_pickle_data())\n"
   ]
  },
  {
   "cell_type": "code",
   "execution_count": null,
   "metadata": {},
   "outputs": [],
   "source": [
    "#ex010-2.py: 使用pickle模块写入二进制文件\n",
    "\n",
    "import pickle\n",
    "\n",
    "i = 13000000\n",
    "a = 99.056\n",
    "s = '中国人民 123abc'\n",
    "lst = [[1, 2, 3], [4, 5, 6], [7, 8, 9]]\n",
    "tu = (-5, 10, 8)\n",
    "coll = {4, 5, 6}\n",
    "dic = {'a':'apple', 'b':'banana', 'g':'grape', 'o':'orange'}\n",
    "data = (i, a, s, lst, tu, coll, dic)\n",
    "with open('sample_pickle.dat', 'wb') as f:\n",
    "    try:\n",
    "        pickle.dump(len(data), f)        #要序列化的对象个数\n",
    "        for item in data:\n",
    "            pickle.dump(item, f)         #序列化数据并写入文件\n",
    "    except:\n",
    "        print('写文件异常')\n",
    "\n",
    "\n"
   ]
  },
  {
   "cell_type": "code",
   "execution_count": null,
   "metadata": {},
   "outputs": [],
   "source": [
    "#ex011.py:用递归函数遍历目录\n",
    "import os\n",
    "\n",
    "def VisitDir(path):\n",
    "    ls=os.listdir(path)\n",
    "    for p in ls:\n",
    "        pathname=os.path.join(path,p)\n",
    "        if not os.path.isfile(pathname):\n",
    "            VisitDir(pathname)\n",
    "        else:\n",
    "            print(pathname)\n",
    "\n",
    "if __name__==\"__main__\":\n",
    "    path=\"D:\\courses\\python\"\n",
    "    VisitDir(path)\n"
   ]
  },
  {
   "cell_type": "code",
   "execution_count": null,
   "metadata": {},
   "outputs": [],
   "source": [
    "#ex011.py:使用os.walk()遍历目录\n",
    "import os\n",
    "\n",
    "def VisitDir(path):\n",
    "    for root,dirs,files in os.walk(path):\n",
    "        print(\"root=\",root)\n",
    "        print(\"dirs=\",dirs)\n",
    "        print(\"files=\",files,'\\n')\n",
    "        for filepath in files:\n",
    "            print(os.path.join(root,filepath),'\\n')\n",
    "\n",
    "if __name__==\"__main__\":\n",
    "    path=\"D:\\courses\\python\"\n",
    "    VisitDir(path)\n"
   ]
  },
  {
   "cell_type": "code",
   "execution_count": null,
   "metadata": {},
   "outputs": [],
   "source": [
    "#ex012.py:返回当前目录中的文件和文件夹\n",
    "import os\n",
    "\n",
    "def list_cwd():\n",
    "    return os.listdir(os.getcwd()) #返回当前目录\n",
    "\n",
    "def files_cwd():\n",
    "    return [p for p in list_cwd() #返回当前目录中的文件\n",
    "            if os.path.isfile(p)]\n",
    "\n",
    "def folders_cwd():\n",
    "    return [p for p in list_cwd() #返回当前目录中的文件夹\n",
    "            if os.path.isdir(p)]\n"
   ]
  },
  {
   "cell_type": "code",
   "execution_count": null,
   "metadata": {},
   "outputs": [],
   "source": [
    "#ex013.py: 类的定义\n",
    "class Person(object):\n",
    "    #Class to represent a person\n",
    "    def __init__(self): #类的构造函数\n",
    "        self.name=''\n",
    "        self.age=0\n",
    "    def display(self):  #类中定义的方法\n",
    "        print(\"Person(%s,%d)\"%(self.name,self.age))\n"
   ]
  },
  {
   "cell_type": "code",
   "execution_count": null,
   "metadata": {},
   "outputs": [],
   "source": [
    "#ex015.py: 对象的显示方法\n",
    "class Person(object):\n",
    "    #Class to represent a person\n",
    "    def __init__(self): #类的构造函数，用于初始化对象\n",
    "        self.name=''\n",
    "        self.age=0\n",
    "    def display(self):  #类中定义的方法\n",
    "        print(\"Person(%s,%d)\"%(self.name,self.age))\n",
    "\n",
    "    def __str__(self):  \n",
    "        return \"Person(%s,%d)\"%(self.name,self.age)\n",
    "\n",
    "    def __repr__(self):  \n",
    "        return \"Person(%s,%d)\"%(self.name,self.age)\n",
    "\n",
    "\n",
    "if __name__=='__main__':\n",
    "    p=Person()\n",
    "    print(p)\n",
    "    print(p.age)\n",
    "    print(p.name)\n",
    "    p.age=25\n",
    "    p.name='Jack'\n",
    "    p.display()\n",
    "    print(str(p))\n",
    "    print(repr(p))\n",
    "    print(p)\n"
   ]
  },
  {
   "cell_type": "code",
   "execution_count": null,
   "metadata": {},
   "outputs": [],
   "source": [
    "#ex016.py:私有成员的访问\n",
    "class A:\n",
    "    def __init__(self, value1=0, value2=0):\n",
    "        self._value1 = value1\n",
    "        self.__value2 = value2\n",
    "    def setValue(self, value1, value2):\n",
    "        self._value1 = value1\n",
    "        self.__value2 = value2\n",
    "    def show(self):\n",
    "        print(self._value1)\n",
    "        print(self.__value2)\n"
   ]
  },
  {
   "cell_type": "code",
   "execution_count": null,
   "metadata": {},
   "outputs": [],
   "source": [
    "#ex017.py: __new__函数使用\n",
    "\n",
    "class Demo(object):\n",
    "    total = 0\n",
    "    def __new__(cls, *args, **kwargs):           #该方法在__init__()之前被调用\n",
    "        if cls.total >= 3:                       #最多允许创建3个对象\n",
    "            raise Exception('最多只能创建3个对象')\n",
    "        else:\n",
    "            return object.__new__(cls)\n",
    "    def __init__(self):\n",
    "        Demo.total = Demo.total + 1\t\n"
   ]
  },
  {
   "cell_type": "code",
   "execution_count": null,
   "metadata": {},
   "outputs": [],
   "source": [
    "#ex018.py:实例变量和类变量\n",
    "class Fruit(object):\n",
    "    price = 0 #类属性\n",
    "\n",
    "    def __init__(self):\n",
    "        self.color='red' #实例属性\n",
    "        zone ='China'    #局部变量\n",
    "\n",
    "if __name__=='__main__':\n",
    "    print(Fruit.price)   #使用类名调用类变量\n",
    "    apple=Fruit()        #实例化apple\n",
    "    print(apple.color)\n",
    "    Fruit.price +=10    #将类变量加10\n",
    "    print(\"apple's price:\" + str(apple.price))\n",
    "\n",
    "    banana=Fruit()\n",
    "    banana.color='yellow'\n",
    "    print(banana.color)\n",
    "    print(Fruit.price)\n",
    "    print(\"banana's price:\"+str(banana.price))\n"
   ]
  },
  {
   "cell_type": "code",
   "execution_count": null,
   "metadata": {},
   "outputs": [],
   "source": [
    "#ex019.py: 在派生类中调用基类方法\n",
    "\n",
    "class Person(object):\n",
    "    def __init__(self, name = '', age = 20, sex = 'man'):\n",
    "        self.setName(name)\n",
    "        self.setAge(age)\n",
    "        self.setSex(sex)\n",
    "        \n",
    "    def setName(self, name):\n",
    "        assert isinstance(name, str), 'name must be string.'\n",
    "        self.__name = name\n",
    "        \n",
    "    def setAge(self, age):\n",
    "        assert isinstance(age, int), 'age must be integer.'\n",
    "        self.__age = age\n",
    "        \n",
    "    def setSex(self, sex):\n",
    "        assert sex in ('man', 'woman'), 'sex must be \"man\" or \"woman\"'\n",
    "        self.__sex = sex\n",
    "        \n",
    "    def show(self):\n",
    "        print('Name:', self.__name)\n",
    "        print('Age:', self.__age)\n",
    "        print('Sex:', self.__sex)\n",
    "\n",
    "class Teacher(Person):\n",
    "    def __init__(self, name='', age = 30, sex = 'man', department = 'Computer'):\n",
    "        super(Teacher, self).__init__(name, age, sex)\n",
    "        # 也可以使用下面的形式对基类数据成员进行初始化\n",
    "        #Person.__init__(self, name, age, sex)\n",
    "        self.setDepartment(department)\n",
    "        \n",
    "    def setDepartment(self, department):        \n",
    "        assert isinstance(department, str), 'department must be a string.'\n",
    "        self.__department = department\n",
    "        \n",
    "    def show(self):\n",
    "        super(Teacher, self).show()\n",
    "        print('Department:', self.__department)\n",
    "\n",
    "if __name__ =='__main__':\n",
    "    print('='*30)\n",
    "    zhangsan = Person('Zhang San', 19, 'man')\n",
    "    zhangsan.show()\n",
    "\n",
    "    print('='*30)\n",
    "    lisi = Teacher('Li Si',32, 'man', 'Math')\n",
    "    lisi.show()\n",
    "    print('='*30)\n",
    "    lisi.setAge(40)\n",
    "    lisi.show()\n"
   ]
  },
  {
   "cell_type": "code",
   "execution_count": null,
   "metadata": {},
   "outputs": [],
   "source": [
    "#try_except 异常处理\n",
    "try:\n",
    "#    f = open(\"testfile.txt\", \"w\")\n",
    "#    f.write(\"这是一个测试文件，用于测试异常!!\")\n",
    "     f1 = open(\"testfile1.txt\", \"r\")\n",
    "except IOError:\n",
    "    print(\"没有找到文件或读取文件失败\")\n",
    "else:\n",
    "    print(\"文件写入成功！\")\n",
    "finally:\n",
    "    print(\"文件关闭！\")\n",
    "    f.close()\n",
    "\n"
   ]
  }
 ],
 "metadata": {
  "kernelspec": {
   "display_name": "Python 3",
   "language": "python",
   "name": "python3"
  },
  "language_info": {
   "codemirror_mode": {
    "name": "ipython",
    "version": 3
   },
   "file_extension": ".py",
   "mimetype": "text/x-python",
   "name": "python",
   "nbconvert_exporter": "python",
   "pygments_lexer": "ipython3",
   "version": "3.7.3"
  }
 },
 "nbformat": 4,
 "nbformat_minor": 2
}
