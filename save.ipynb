{
 "cells": [
  {
   "cell_type": "markdown",
   "metadata": {},
   "source": [
    "### 爬虫"
   ]
  },
  {
   "cell_type": "code",
   "execution_count": null,
   "metadata": {},
   "outputs": [],
   "source": [
    "\n",
    "import requests\n",
    "import re\n",
    "import time\n",
    "from bs4 import BeautifulSoup\n",
    "\n",
    "headers = {'User-Agent':'Mozilla/5.0 (Windows NT 6.1; Win64; x64) AppleWebKit/537.36 (KHTML, like Gecko) Chrome/58.0.3029.110 Safari/537.36'}  \n",
    "# Requests库的get请求\n",
    "url = 'http://p3.csgfnmdb.rocks/pw/html_data/21/1903/3.html'\n",
    "resp = requests.get(url, headers=headers)\n",
    "#url = 'http://p3.csgfnmdb.com/pw/thread.php?fid=14'\n",
    "resp.encoding='utf-8'\n",
    "soup = BeautifulSoup(resp.text, 'lxml')\n",
    "#print(soup)\n",
    "t1 = soup.find_all('title')\n",
    "print(t1)\n",
    "# urllist = []\n",
    "for t2 in t1:\n",
    "    t3 = t2.text.split('|')[0]\n",
    "    print(t3)\n",
    "#     if \"html_data\" in str(t3):\n",
    "#         urllist.append('http://p3.csgfnmdb.com/pw/'+ str(t3))\n",
    "# print(list(set(urllist)))"
   ]
  },
  {
   "cell_type": "markdown",
   "metadata": {},
   "source": [
    "### 读取图片详细信息"
   ]
  },
  {
   "cell_type": "code",
   "execution_count": null,
   "metadata": {},
   "outputs": [],
   "source": [
    "import os\n",
    "import exifread\n",
    " \n",
    "def getExif(filename):\n",
    "    FIELD = 'EXIF DateTimeOriginal'\n",
    "    fd = open(filename, 'rb')#r表示读取， b表示二进制\n",
    "    tags = exifread.process_file(fd)\n",
    "    fd.close()\n",
    "    if FIELD in tags:\n",
    "        print(tags[FIELD])\n",
    "        new_name = 'IMG_'+ str(tags[FIELD]).replace(':', '').replace(' ', '_') + os.path.splitext(filename)[1]\n",
    "        tot = 1\n",
    "        while os.path.exists(new_name):\n",
    "            \n",
    "            new_name = 'repeat_'+str(tot)+'_'+str(tags[FIELD]).replace(':', '').replace(' ', '_')  + os.path.splitext(filename)[1]\n",
    "            tot += 1\n",
    " \n",
    "         \n",
    "        print(new_name)    \n",
    "        #os.rename(filename, new_name2)\n",
    "    else:\n",
    "        print('No {} found'.format(FIELD))\n",
    "\n",
    "# for filename in os.listdir('.'):\n",
    "#     if os.path.isfile(filename):\n",
    "filename1 = '1.jpg'\n",
    "filename2 = '2.jpg'\n",
    "getExif(filename1)\n",
    "getExif(filename2)\n",
    "filename3 = '3.jpg'\n",
    "getExif(filename3)"
   ]
  },
  {
   "cell_type": "markdown",
   "metadata": {},
   "source": [
    "### 视频分帧"
   ]
  },
  {
   "cell_type": "code",
   "execution_count": null,
   "metadata": {},
   "outputs": [],
   "source": [
    "import cv2  \n",
    "\n",
    "vidcap = cv2.VideoCapture('2.mp4')  \n",
    "success,image = vidcap.read()  \n",
    "count = 0  \n",
    "success = True  \n",
    "while success:  \n",
    "    success,image = vidcap.read()  \n",
    "    cv2.imwrite(\"img/frame%d.jpg\" % count, image)     # save frame as JPEG file  \n",
    "    if cv2.waitKey(10) == 27:                       \n",
    "        break \n",
    "    count += 1\n",
    "    print(count)\n",
    "vidcap.release()  \n",
    "\n"
   ]
  },
  {
   "cell_type": "code",
   "execution_count": null,
   "metadata": {},
   "outputs": [],
   "source": []
  },
  {
   "cell_type": "markdown",
   "metadata": {},
   "source": [
    "## Markdown 标题"
   ]
  },
  {
   "cell_type": "markdown",
   "metadata": {},
   "source": [
    "\n",
    "使用 # 号可表示 1-6 级标题，一级标题对应一个 # 号，二级标题对应两个 # 号，以此类推。\n",
    "# 一级标题\n",
    "## 二级标题\n",
    "### 三级标题\n",
    "#### 四级标题\n",
    "##### 五级标题\n",
    "###### 六级标题"
   ]
  },
  {
   "cell_type": "markdown",
   "metadata": {},
   "source": [
    "## Markdown 段落"
   ]
  },
  {
   "cell_type": "code",
   "execution_count": null,
   "metadata": {},
   "outputs": [],
   "source": [
    "Markdown 段落没有特殊的格式，直接编写文字就好，段落的换行是使用两个以上空格加上回车。\n",
    "\n",
    "当然也可以在段落后面使用一个空行来表示重新开始一个段落。"
   ]
  },
  {
   "cell_type": "markdown",
   "metadata": {},
   "source": [
    "### 字体\n",
    "*斜体文本*  \n",
    "_斜体文本_  \n",
    "**粗体文本**  \n",
    "__粗体文本__  \n",
    "***粗斜体文本***  \n",
    "___粗斜体文本___  "
   ]
  },
  {
   "cell_type": "markdown",
   "metadata": {},
   "source": [
    "### 分隔线\n",
    "***\n",
    "\n",
    "* * *\n",
    "\n",
    "*****\n",
    "\n",
    "- - -\n",
    "\n",
    "----------"
   ]
  },
  {
   "cell_type": "markdown",
   "metadata": {},
   "source": [
    "### 删除线\n",
    "如果段落上的文字要添加删除线，只需要在文字的两端加上两个波浪线 ~~ 即可  \n",
    "GOOGLE.COM  \n",
    "~~BAIDU.COM~~"
   ]
  },
  {
   "cell_type": "markdown",
   "metadata": {},
   "source": [
    "### 下划线\n",
    "下划线可以通过 HTML的 < u > 标签来实现：\n",
    "\n",
    "<u> 带下划线文本"
   ]
  },
  {
   "cell_type": "markdown",
   "metadata": {},
   "source": [
    "### 脚注\n",
    "生成一个脚注1[^footnote].  \n",
    "\n",
    "[^footnote]: 这里是**脚注**的*内容*.\n",
    "  \n",
    "  \n",
    "生成一个脚注2[^foot].  \n",
    "\n",
    " [^foot]:这里是**脚注2**的*内容*."
   ]
  },
  {
   "cell_type": "markdown",
   "metadata": {},
   "source": [
    "## Markdown 列表"
   ]
  },
  {
   "cell_type": "markdown",
   "metadata": {},
   "source": [
    "无序列表使用星号(*)、加号(+)或是减号(-)作为列表标记：\n",
    "* 第一项\n",
    "* 第二项\n",
    "* 第三项\n",
    "\n",
    "\n",
    "+ 第一项\n",
    "+ 第二项\n",
    "+ 第三项\n",
    "\n",
    "\n",
    "- 第一项\n",
    "- 第二项\n",
    "- 第三项\n",
    "\n",
    "有序列表使用数字并加上 . 号来表示:\n",
    "1. 第一项\n",
    "2. 第二项\n",
    "3. 第三项"
   ]
  },
  {
   "cell_type": "markdown",
   "metadata": {},
   "source": [
    "### 列表嵌套\n",
    "列表嵌套只需在子列表中的选项添加四个空格即可：\n",
    "1. 第一项：\n",
    "    - 第一项嵌套的第一个元素\n",
    "    - 第一项嵌套的第二个元素\n",
    "2. 第二项：\n",
    "    - 第二项嵌套的第一个元素\n",
    "    - 第二项嵌套的第一个元素"
   ]
  },
  {
   "cell_type": "markdown",
   "metadata": {},
   "source": [
    "## Markdown 区块"
   ]
  },
  {
   "cell_type": "markdown",
   "metadata": {},
   "source": [
    "Markdown 区块引用是在段落开头使用 > 符号 ，然后后面紧跟一个空格符号：\n",
    "> 区块引用  \n",
    "> 菜鸟教程  \n",
    "> 学的不仅是技术更是梦想\n",
    "\n",
    "另外区块是可以嵌套的，一个 > 符号是最外层，两个 > 符号是第一层嵌套，以此类推退：\n",
    "> 最外层\n",
    "> > 第一层嵌套\n",
    "> > > 第二层嵌套"
   ]
  },
  {
   "cell_type": "markdown",
   "metadata": {},
   "source": [
    "### 区块中使用列表\n",
    "区块中使用列表实例如下：\n",
    "\n",
    "> 区块中使用列表\n",
    "> 1. 第一项\n",
    "> 2. 第二项  \n",
    "> + 第一项\n",
    "> + 第二项\n",
    "> + 第三项"
   ]
  },
  {
   "cell_type": "markdown",
   "metadata": {},
   "source": [
    "### 列表中使用区块\n",
    "如果要在列表项目内放进区块，那么就需要在 > 前添加四个空格的缩进。\n",
    "\n",
    "区块中使用列表实例如下：\n",
    "\n",
    "* 第一项\n",
    "    > 菜鸟教程  \n",
    "    > 学的不仅是技术更是梦想\n",
    "* 第二项"
   ]
  },
  {
   "cell_type": "markdown",
   "metadata": {},
   "source": [
    "### Markdown 代码\n",
    "如果是段落上的一个函数或片段的代码可以用反引号把它包起来：  \n",
    "`printf()` 函数\n",
    "\n",
    "\n",
    "\n",
    "也可以用三个反引号包裹一段代码，并指定一种语言（也可以不指定）：\n",
    "```javascript\n",
    "$(document).ready(function () {\n",
    "    alert('RUNOOB');\n",
    "});\n",
    "```"
   ]
  },
  {
   "cell_type": "markdown",
   "metadata": {},
   "source": [
    "### Markdown 链接\n",
    "链接使用方法如下：\n",
    "```\n",
    "[链接名称](链接地址)\n",
    "```\n",
    "或者： <链接地址>  \n",
    "\n",
    "例如：\n",
    "\n",
    "这是一个链接 [菜鸟教程](https://www.runoob.com)  \n",
    "<https://www.runoob.com>"
   ]
  },
  {
   "cell_type": "markdown",
   "metadata": {},
   "source": [
    "### 高级链接\n",
    "链接也可以用变量来代替，文档末尾附带变量地址：  \n",
    "这个链接用 1 作为网址变量 [Google][1]  \n",
    "这个链接用 runoob 作为网址变量 [Runoob][runoob]  \n",
    "然后在文档的结尾为变量赋值（网址）  \n",
    "\n",
    "  [1]: http://www.google.com/\n",
    "  [runoob]: http://www.runoob.com/"
   ]
  },
  {
   "cell_type": "markdown",
   "metadata": {},
   "source": [
    "## Markdown 图片\n",
    "Markdown 图片语法格式如下：\n",
    "```\n",
    "![alt 属性文本](图片地址)\n",
    "\n",
    "![alt 属性文本](图片地址 \"可选标题\")\n",
    "开头一个感叹号 !\n",
    "接着一个方括号，里面放上图片的替代文字\n",
    "接着一个普通括号，里面放上图片的网址，最后还可以用引号包住并加上选择性的 'title' 属性的文字。\n",
    "例：![RUNOOB 图标](http://static.runoob.com/images/runoob-logo.png)\n",
    "\n",
    "例：![RUNOOB 图标](http://static.runoob.com/images/runoob-logo.png \"RUNOOB\")\n",
    "```\n",
    "![RUNOOB 图标](http://static.runoob.com/images/runoob-logo.png)\n",
    "\n",
    "![RUNOOB 图标](http://static.runoob.com/images/runoob-logo.png \"RUNOOB\")\n",
    "\n",
    "\n",
    "```\n",
    "也可以像网址那样对图片网址使用变量:\n",
    "\n",
    "这个链接用 1 作为网址变量 [RUNOOB][1].\n",
    "然后在文档的结尾位变量赋值（网址）\n",
    "\n",
    "[1]: http://static.runoob.com/images/runoob-logo.png\n",
    "\n",
    "```\n",
    "这个链接用 1 作为网址变量 [RUNOOB][1].\n",
    "然后在文档的结尾位变量赋值（网址）\n",
    "\n",
    "[1]: http://static.runoob.com/images/runoob-logo.png"
   ]
  },
  {
   "cell_type": "markdown",
   "metadata": {},
   "source": [
    "### Markdown 表格\n",
    "Markdown 制作表格使用 | 来分隔不同的单元格，使用 - 来分隔表头和其他行。\n",
    "\n",
    "语法格式如下：\n",
    "```\n",
    "|  表头   | 表头  |\n",
    "|  ----  | ----  |\n",
    "| 单元格  | 单元格 |\n",
    "| 单元格  | 单元格 |\n",
    "```\n",
    "|  表头   | 表头  |\n",
    "|  ----  | ----  |\n",
    "| 单元格  | 单元格 |\n",
    "| 单元格  | 单元格 |\n",
    "\n",
    "\n",
    "对齐方式\n",
    "\n",
    "我们可以设置表格的对齐方式：\n",
    "```\n",
    "-: 设置内容和标题栏居右对齐。\n",
    ":- 设置内容和标题栏居左对齐。\n",
    ":-: 设置内容和标题栏居中对齐。\n",
    "```\n",
    "| 左对齐 | 右对齐 | 居中对齐 |\n",
    "| :-----| ----: | :----: |\n",
    "| 单元格 | 单元格 | 单元格 |\n",
    "| 单元格 | 单元格 | 单元格 |\n"
   ]
  },
  {
   "cell_type": "markdown",
   "metadata": {},
   "source": [
    "### Markdown 高级技巧\n",
    "高级技巧链接 [菜鸟教程](https://www.runoob.com/markdown/md-advance.html)  "
   ]
  },
  {
   "cell_type": "code",
   "execution_count": null,
   "metadata": {},
   "outputs": [],
   "source": []
  }
 ],
 "metadata": {
  "kernelspec": {
   "display_name": "Python 3",
   "language": "python",
   "name": "python3"
  },
  "language_info": {
   "codemirror_mode": {
    "name": "ipython",
    "version": 3
   },
   "file_extension": ".py",
   "mimetype": "text/x-python",
   "name": "python",
   "nbconvert_exporter": "python",
   "pygments_lexer": "ipython3",
   "version": "3.7.3"
  }
 },
 "nbformat": 4,
 "nbformat_minor": 2
}
