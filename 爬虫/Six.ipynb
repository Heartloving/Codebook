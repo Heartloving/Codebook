{
 "cells": [
  {
   "cell_type": "markdown",
   "metadata": {},
   "source": [
    "## 1024"
   ]
  },
  {
   "cell_type": "code",
   "execution_count": 5,
   "metadata": {
    "scrolled": true
   },
   "outputs": [
    {
     "name": "stdout",
     "output_type": "stream",
     "text": [
      "['朋友家底厚，爱摄影，身边自然少不了美女，这个是他调教的最听话的一个！[15P]']\n",
      "朋友家底厚，爱摄影，身边自然少不了美女，这个是他调教的最听话的一个！[15P] already exists\n"
     ]
    },
    {
     "name": "stderr",
     "output_type": "stream",
     "text": [
      "100%|██████████████████████████████████████████████████████████████████████████████████| 15/15 [00:31<00:00,  1.60s/it]\n"
     ]
    },
    {
     "name": "stdout",
     "output_type": "stream",
     "text": [
      "['嫩穴就像个小女孩一样，粉嫩可口[12P]']\n"
     ]
    },
    {
     "name": "stderr",
     "output_type": "stream",
     "text": [
      "100%|██████████████████████████████████████████████████████████████████████████████████| 12/12 [00:16<00:00,  1.62s/it]\n"
     ]
    },
    {
     "name": "stdout",
     "output_type": "stream",
     "text": [
      "['勾引同事[11P]']\n"
     ]
    },
    {
     "name": "stderr",
     "output_type": "stream",
     "text": [
      "100%|██████████████████████████████████████████████████████████████████████████████████| 11/11 [00:11<00:00,  1.10it/s]\n"
     ]
    },
    {
     "name": "stdout",
     "output_type": "stream",
     "text": [
      "['带着婚戒却想着被别人操[13P]']\n"
     ]
    },
    {
     "name": "stderr",
     "output_type": "stream",
     "text": [
      "100%|██████████████████████████████████████████████████████████████████████████████████| 12/12 [00:27<00:00,  3.01s/it]\n"
     ]
    },
    {
     "name": "stdout",
     "output_type": "stream",
     "text": [
      "['第一次来炮友家里玩[13P]']\n"
     ]
    },
    {
     "name": "stderr",
     "output_type": "stream",
     "text": [
      "100%|██████████████████████████████████████████████████████████████████████████████████| 13/13 [00:24<00:00,  1.61s/it]\n"
     ]
    },
    {
     "name": "stdout",
     "output_type": "stream",
     "text": [
      "['这一次特别换上女仆装来做[18P]']\n"
     ]
    },
    {
     "name": "stderr",
     "output_type": "stream",
     "text": [
      "100%|██████████████████████████████████████████████████████████████████████████████████| 18/18 [00:26<00:00,  1.98s/it]\n"
     ]
    },
    {
     "name": "stdout",
     "output_type": "stream",
     "text": [
      "['挂不得她逼那么黑呢，不光男人操，而且自抠骚逼长达18年之久[16P]']\n"
     ]
    },
    {
     "name": "stderr",
     "output_type": "stream",
     "text": [
      "100%|██████████████████████████████████████████████████████████████████████████████████| 16/16 [00:17<00:00,  1.19s/it]\n"
     ]
    },
    {
     "name": "stdout",
     "output_type": "stream",
     "text": [
      "['小姨子没胆子勾搭，勾搭了超级淫荡拜金的小姨子的闺蜜[12P]']\n"
     ]
    },
    {
     "name": "stderr",
     "output_type": "stream",
     "text": [
      "100%|██████████████████████████████████████████████████████████████████████████████████| 12/12 [00:13<00:00,  1.12it/s]\n"
     ]
    },
    {
     "name": "stdout",
     "output_type": "stream",
     "text": [
      "['高冷妩媚的小姐姐[21P]']\n"
     ]
    },
    {
     "name": "stderr",
     "output_type": "stream",
     "text": [
      "100%|██████████████████████████████████████████████████████████████████████████████████| 21/21 [00:38<00:00,  1.81s/it]\n"
     ]
    },
    {
     "name": "stdout",
     "output_type": "stream",
     "text": [
      "['这么大的鸡巴谁不喜欢[10P]']\n"
     ]
    },
    {
     "name": "stderr",
     "output_type": "stream",
     "text": [
      "100%|██████████████████████████████████████████████████████████████████████████████████| 10/10 [00:15<00:00,  1.48s/it]\n"
     ]
    },
    {
     "name": "stdout",
     "output_type": "stream",
     "text": [
      "['老婆恋上单男了，现在每周跟他开房过周末，正牌老公只能撸管度日[17P]']\n"
     ]
    },
    {
     "name": "stderr",
     "output_type": "stream",
     "text": [
      "100%|██████████████████████████████████████████████████████████████████████████████████| 17/17 [00:21<00:00,  1.42s/it]\n"
     ]
    },
    {
     "name": "stdout",
     "output_type": "stream",
     "text": [
      "['熟女骚穴有点嫩[14P]']\n"
     ]
    },
    {
     "name": "stderr",
     "output_type": "stream",
     "text": [
      "100%|██████████████████████████████████████████████████████████████████████████████████| 14/14 [00:26<00:00,  2.45s/it]\n"
     ]
    },
    {
     "name": "stdout",
     "output_type": "stream",
     "text": [
      "['单位少妇偷情被我拍了照，要挟她一度风云就保密，她不甘不愿的从了[13P]']\n"
     ]
    },
    {
     "name": "stderr",
     "output_type": "stream",
     "text": [
      "100%|██████████████████████████████████████████████████████████████████████████████████| 13/13 [00:24<00:00,  1.74s/it]\n"
     ]
    },
    {
     "name": "stdout",
     "output_type": "stream",
     "text": [
      "['骚妇欲求不满[12P]']\n"
     ]
    },
    {
     "name": "stderr",
     "output_type": "stream",
     "text": [
      "100%|██████████████████████████████████████████████████████████████████████████████████| 12/12 [00:21<00:00,  1.83s/it]\n"
     ]
    },
    {
     "name": "stdout",
     "output_type": "stream",
     "text": [
      "['美少妇的黑丝诱惑[12P]']\n"
     ]
    },
    {
     "name": "stderr",
     "output_type": "stream",
     "text": [
      "100%|██████████████████████████████████████████████████████████████████████████████████| 12/12 [00:11<00:00,  1.06s/it]\n"
     ]
    },
    {
     "name": "stdout",
     "output_type": "stream",
     "text": [
      "['当年追她追不到，都结婚了一勾搭就开炮[10P]']\n"
     ]
    },
    {
     "name": "stderr",
     "output_type": "stream",
     "text": [
      "100%|██████████████████████████████████████████████████████████████████████████████████| 10/10 [00:35<00:00,  3.63s/it]\n"
     ]
    },
    {
     "name": "stdout",
     "output_type": "stream",
     "text": [
      "['翘起屁股等你后入[11P]']\n"
     ]
    },
    {
     "name": "stderr",
     "output_type": "stream",
     "text": [
      "100%|██████████████████████████████████████████████████████████████████████████████████| 11/11 [00:21<00:00,  1.51s/it]\n"
     ]
    },
    {
     "name": "stdout",
     "output_type": "stream",
     "text": [
      "['名妓小美翘臀和浓毛值得你拥有!客人满天下！她出生高贵却向往妓女人生[15P]']\n"
     ]
    },
    {
     "name": "stderr",
     "output_type": "stream",
     "text": [
      "100%|██████████████████████████████████████████████████████████████████████████████████| 13/13 [00:24<00:00,  1.82s/it]\n"
     ]
    },
    {
     "name": "stdout",
     "output_type": "stream",
     "text": [
      "['㊣㊣颜值不错短发妹子双人啪啪秀 舔硬JJ骑乘大力猛干射在肚子上搞完洗澡 很是诱惑喜㊣㊣15部']\n"
     ]
    },
    {
     "name": "stderr",
     "output_type": "stream",
     "text": [
      "100%|██████████████████████████████████████████████████████████████████████████████████| 15/15 [00:22<00:00,  1.55s/it]\n"
     ]
    },
    {
     "name": "stdout",
     "output_type": "stream",
     "text": [
      "['与骚妇的一次完美邂逅[16P]']\n"
     ]
    },
    {
     "name": "stderr",
     "output_type": "stream",
     "text": [
      "100%|██████████████████████████████████████████████████████████████████████████████████| 16/16 [00:16<00:00,  1.05s/it]\n"
     ]
    },
    {
     "name": "stdout",
     "output_type": "stream",
     "text": [
      "['黑丝短裙美女镜子自拍[14P]']\n"
     ]
    },
    {
     "name": "stderr",
     "output_type": "stream",
     "text": [
      "100%|██████████████████████████████████████████████████████████████████████████████████| 14/14 [00:20<00:00,  1.14it/s]\n"
     ]
    },
    {
     "name": "stdout",
     "output_type": "stream",
     "text": [
      "['约3个网友一起啪啪[14P]']\n"
     ]
    },
    {
     "name": "stderr",
     "output_type": "stream",
     "text": [
      "100%|██████████████████████████████████████████████████████████████████████████████████| 14/14 [00:23<00:00,  1.43s/it]\n"
     ]
    },
    {
     "name": "stdout",
     "output_type": "stream",
     "text": [
      "['很喜欢这个眼神[10P]']\n"
     ]
    },
    {
     "name": "stderr",
     "output_type": "stream",
     "text": [
      "100%|████████████████████████████████████████████████████████████████████████████████████| 8/8 [00:16<00:00,  1.92s/it]\n"
     ]
    },
    {
     "name": "stdout",
     "output_type": "stream",
     "text": [
      "['风骚的美爆乳妹子露脸，颜值自带风骚[18P]']\n"
     ]
    },
    {
     "name": "stderr",
     "output_type": "stream",
     "text": [
      "100%|██████████████████████████████████████████████████████████████████████████████████| 18/18 [00:38<00:00,  1.78s/it]\n"
     ]
    },
    {
     "name": "stdout",
     "output_type": "stream",
     "text": [
      "['鲍鱼需要吃棒棒[15P]']\n"
     ]
    },
    {
     "name": "stderr",
     "output_type": "stream",
     "text": [
      "100%|██████████████████████████████████████████████████████████████████████████████████| 15/15 [00:28<00:00,  2.40s/it]\n"
     ]
    },
    {
     "name": "stdout",
     "output_type": "stream",
     "text": [
      "['骚逼眼镜妹[9P]']\n"
     ]
    },
    {
     "name": "stderr",
     "output_type": "stream",
     "text": [
      "100%|████████████████████████████████████████████████████████████████████████████████████| 9/9 [00:48<00:00,  5.33s/it]\n"
     ]
    },
    {
     "name": "stdout",
     "output_type": "stream",
     "text": [
      "['粉嫩小妹各种内衣的诱惑[16P]']\n"
     ]
    },
    {
     "name": "stderr",
     "output_type": "stream",
     "text": [
      "100%|██████████████████████████████████████████████████████████████████████████████████| 16/16 [00:28<00:00,  1.56s/it]\n"
     ]
    },
    {
     "name": "stdout",
     "output_type": "stream",
     "text": [
      "['乡间小路上的全裸哦[16P]']\n"
     ]
    },
    {
     "name": "stderr",
     "output_type": "stream",
     "text": [
      "100%|██████████████████████████████████████████████████████████████████████████████████| 16/16 [00:36<00:00,  2.44s/it]\n"
     ]
    },
    {
     "name": "stdout",
     "output_type": "stream",
     "text": [
      "['修长的双腿[12P]']\n"
     ]
    },
    {
     "name": "stderr",
     "output_type": "stream",
     "text": [
      "100%|██████████████████████████████████████████████████████████████████████████████████| 12/12 [00:16<00:00,  1.43s/it]\n"
     ]
    },
    {
     "name": "stdout",
     "output_type": "stream",
     "text": [
      "['白嫩奶子，若隐若现[13P]']\n"
     ]
    },
    {
     "name": "stderr",
     "output_type": "stream",
     "text": [
      "100%|██████████████████████████████████████████████████████████████████████████████████| 13/13 [00:24<00:00,  1.41s/it]\n"
     ]
    },
    {
     "name": "stdout",
     "output_type": "stream",
     "text": [
      "['搞了个极品，幸好我吃了药，要不然真三五分钟就在她身上玩完了[13P]']\n"
     ]
    },
    {
     "name": "stderr",
     "output_type": "stream",
     "text": [
      "100%|██████████████████████████████████████████████████████████████████████████████████| 13/13 [00:12<00:00,  1.01s/it]\n"
     ]
    },
    {
     "name": "stdout",
     "output_type": "stream",
     "text": [
      "['约到一个喜欢玩制服的骚货[15P]']\n"
     ]
    },
    {
     "name": "stderr",
     "output_type": "stream",
     "text": [
      "100%|██████████████████████████████████████████████████████████████████████████████████| 15/15 [00:31<00:00,  2.21s/it]\n"
     ]
    },
    {
     "name": "stdout",
     "output_type": "stream",
     "text": [
      "['情人的美好时光[10P]']\n"
     ]
    },
    {
     "name": "stderr",
     "output_type": "stream",
     "text": [
      "100%|██████████████████████████████████████████████████████████████████████████████████| 10/10 [00:18<00:00,  1.68s/it]\n"
     ]
    },
    {
     "name": "stdout",
     "output_type": "stream",
     "text": [
      "['超嫩正妹美乳自拍[17P]']\n"
     ]
    },
    {
     "name": "stderr",
     "output_type": "stream",
     "text": [
      "100%|██████████████████████████████████████████████████████████████████████████████████| 17/17 [00:38<00:00,  2.25s/it]\n"
     ]
    },
    {
     "name": "stdout",
     "output_type": "stream",
     "text": [
      "['美丽的大奶和无毛逼[15P]']\n"
     ]
    },
    {
     "name": "stderr",
     "output_type": "stream",
     "text": [
      "100%|██████████████████████████████████████████████████████████████████████████████████| 15/15 [00:19<00:00,  1.18s/it]\n"
     ]
    },
    {
     "name": "stdout",
     "output_type": "stream",
     "text": [
      "['哥们的好媳妇[18P]']\n"
     ]
    },
    {
     "name": "stderr",
     "output_type": "stream",
     "text": [
      "100%|██████████████████████████████████████████████████████████████████████████████████| 18/18 [00:22<00:00,  1.10it/s]\n"
     ]
    },
    {
     "name": "stdout",
     "output_type": "stream",
     "text": [
      "['骚货穿上高跟鞋等着被干[10P]']\n"
     ]
    },
    {
     "name": "stderr",
     "output_type": "stream",
     "text": [
      "100%|██████████████████████████████████████████████████████████████████████████████████| 10/10 [00:17<00:00,  1.49s/it]\n"
     ]
    },
    {
     "name": "stdout",
     "output_type": "stream",
     "text": [
      "['最近搞的鸡全程都拍下来[11P]']\n"
     ]
    },
    {
     "name": "stderr",
     "output_type": "stream",
     "text": [
      "100%|██████████████████████████████████████████████████████████████████████████████████| 11/11 [00:17<00:00,  2.22s/it]\n"
     ]
    },
    {
     "name": "stdout",
     "output_type": "stream",
     "text": [
      "['车震一年轻漂亮的小MM[21P]']\n"
     ]
    },
    {
     "name": "stderr",
     "output_type": "stream",
     "text": [
      "100%|██████████████████████████████████████████████████████████████████████████████████| 21/21 [00:29<00:00,  1.26s/it]\n"
     ]
    },
    {
     "name": "stdout",
     "output_type": "stream",
     "text": [
      "['没玩过的新花样[17P]']\n"
     ]
    },
    {
     "name": "stderr",
     "output_type": "stream",
     "text": [
      "100%|██████████████████████████████████████████████████████████████████████████████████| 17/17 [01:34<00:00,  5.47s/it]\n"
     ]
    },
    {
     "name": "stdout",
     "output_type": "stream",
     "text": [
      "['和穿性感情趣内衣少妇开房[11P]']\n"
     ]
    },
    {
     "name": "stderr",
     "output_type": "stream",
     "text": [
      "100%|██████████████████████████████████████████████████████████████████████████████████| 11/11 [00:14<00:00,  1.16s/it]\n"
     ]
    },
    {
     "name": "stdout",
     "output_type": "stream",
     "text": [
      "['眼镜妹口技了得[17P]']\n"
     ]
    },
    {
     "name": "stderr",
     "output_type": "stream",
     "text": [
      "100%|██████████████████████████████████████████████████████████████████████████████████| 17/17 [00:36<00:00,  1.78s/it]\n"
     ]
    },
    {
     "name": "stdout",
     "output_type": "stream",
     "text": [
      "['喝多了送女领导回家发现新鲜事[13P]']\n"
     ]
    },
    {
     "name": "stderr",
     "output_type": "stream",
     "text": [
      "100%|██████████████████████████████████████████████████████████████████████████████████| 13/13 [00:30<00:00,  1.71s/it]\n"
     ]
    },
    {
     "name": "stdout",
     "output_type": "stream",
     "text": [
      "['听主人话的女仆[12P]']\n"
     ]
    },
    {
     "name": "stderr",
     "output_type": "stream",
     "text": [
      "100%|██████████████████████████████████████████████████████████████████████████████████| 12/12 [00:21<00:00,  2.42s/it]\n"
     ]
    },
    {
     "name": "stdout",
     "output_type": "stream",
     "text": [
      "['身材丰满，逼也肥[12P]']\n"
     ]
    },
    {
     "name": "stderr",
     "output_type": "stream",
     "text": [
      "100%|██████████████████████████████████████████████████████████████████████████████████| 12/12 [00:19<00:00,  1.19s/it]\n"
     ]
    },
    {
     "name": "stdout",
     "output_type": "stream",
     "text": [
      "1280.3548254966736\n"
     ]
    }
   ],
   "source": [
    "# -*- coding:utf-8 -*-\n",
    "#  author: yukun\n",
    "import requests\n",
    "import os\n",
    "import time\n",
    "import re\n",
    "from bs4 import BeautifulSoup\n",
    "from lxml import etree\n",
    "from tqdm import tqdm\n",
    "\n",
    "# 发出请求获得HTML源码\n",
    "def get_html(url):\n",
    "    # 指定一个浏览器头\n",
    "    headers = {'User-Agent':'Mozilla/5.0 (Windows NT 6.1; Win64; x64) AppleWebKit/537.36 (KHTML, like Gecko) Chrome/58.0.3029.110 Safari/537.36'}\n",
    "    # 代理，免费的代理只能维持一会可能就没用了，自行更换\n",
    "    proxies = {'http': '111.23.10.27:8080'}\n",
    "    try:\n",
    "        # Requests库的get请求\n",
    "        resp = requests.get(url, headers=headers)\n",
    "    except:\n",
    "        # 如果请求被阻，就使用代理\n",
    "        resp = requests.get(url, headers=headers, proxies=proxies)\n",
    "        print('代理登陆中')\n",
    "    return resp\n",
    " \n",
    "# 创建文件夹的函数，保存到E盘\n",
    "def mkdir(root_path,path):    \n",
    "    \n",
    "    isExists = os.path.exists(os.path.join(root_path,path)) #os.path.exists(name)判断是否存在路径\n",
    "    # 如果不存在\n",
    "    if not isExists:\n",
    "        #print('makedir', path)\n",
    "        # 创建文件夹\n",
    "        os.makedirs(os.path.join(root_path, path))# os.path.join(path, name)连接目录与文件名\n",
    "        # 切换到创建的文件夹\n",
    "        os.chdir(os.path.join(root_path, path))\n",
    "        return True\n",
    "    # 如果存在了就返回False\n",
    "    else:\n",
    "        print(path, 'already exists')\n",
    "        return False\n",
    "    \n",
    "# 获得所有页面\n",
    "def all_page(base_url,son_url):\n",
    "    \n",
    "    resp = get_html(base_url+son_url)#获取网页内容\n",
    "    resp.encoding='utf-8'#选择编码方式，不需要返回值\n",
    "    web_data = resp.text #对解码完成的网页选择文本形式，保持到web_data中\n",
    "    html = etree.HTML(web_data)# 将页面转换成文档树\n",
    "    link = html.xpath('//h3/a/@href')#用xpath选取所有子节点中名称为h3的节点，\n",
    "    #并选取对于直接子节点a的属性进行保存，这里的是子网页的链接\n",
    "    link = list(filter(lambda x: x.find('html') != -1 ,link))\n",
    "    #用过滤器看名称是不是html_data/14/1910/4390161.html类型的 \n",
    "    #fileter需要用list包装返回的才是列表，否则直接返回一个地址\n",
    "    urllist = []\n",
    "    for x in link:\n",
    "        urllist.append(base_url+ str(x))\n",
    "        \n",
    "#     soup = BeautifulSoup(get_html(base_url).text, 'lxml')\n",
    "#     urllist = []\n",
    "#     t1 = soup.find_all('a')\n",
    "#     #print(t1)\n",
    "#     for t2 in t1:\n",
    "#         t3 = t2.get('href') \n",
    "#         if \"html_data\" in str(t3):\n",
    "#             urllist.append('http://p3.csgfnmdb.com/pw/'+ str(t3))\n",
    "\n",
    "    urllist=list(set(urllist))#set去重,去重后再用list包装\n",
    "    #print(urllist)\n",
    "    \n",
    "    return urllist\n",
    "# 保存图片函数，传入的参数是一页所有图片url集合\n",
    "\n",
    "\n",
    "\n",
    "def download(imgs_link):\n",
    "    for url in tqdm(imgs_link):\n",
    "        # 判断url是否完整\n",
    "        if url[0:5] == 'http:':\n",
    "            img_url = url\n",
    "        else:\n",
    "            img_url = 'http:' + url\n",
    "        filename = img_url.split('/')[-1]\n",
    "        tpye = filename.split('.')[-1]\n",
    "        if  tpye =='jpg':\n",
    "            # 保存图片\n",
    "            with open(filename, 'wb') as f:\n",
    "                # 直接过滤掉保存失败的图片，不终止程序\n",
    "                try:\n",
    "                    f.write(get_html(img_url).content)\n",
    "                    #print('Sucessful image:',filename)\n",
    "                except:\n",
    "                    print('Failed:',filename)\n",
    "        \n",
    "# # 获得图片地址调用download函数进行下载\n",
    "# def get_imgs():\n",
    "#     # 调用函数获得所有页面\n",
    "#     #urllist = all_page()\n",
    "#     for url in all_page():\n",
    "#         new = get_html(url)\n",
    "#         new.encoding='utf-8'\n",
    "#         soup = BeautifulSoup(new.text, 'lxml')\n",
    "#         path = soup.find('title').text.split('|')[0]\n",
    "#         print(path)\n",
    "    \n",
    "#         # 创建文件夹的函数\n",
    "#         mkdir(path)\n",
    "#         # 调用请求函数获得HTML源码\n",
    "#         html = get_html(url).text\n",
    "#         # 使用lxml解析器，也可以使用html.parser\n",
    "#         soup = BeautifulSoup(html, 'lxml')\n",
    "#         #print(soup)\n",
    "#         # css选择器\n",
    "#         allimgs = soup.select('img')\n",
    "#         #print(allimgs)        \n",
    "#         # 调用download函数下载保存\n",
    "#         download(allimgs)\n",
    "#     # 执行完毕打出ok\n",
    "#     print('ok')\n",
    "    \n",
    "    \n",
    "if __name__ == '__main__':\n",
    "    # 计时\n",
    "    t1 = time.time()\n",
    "    base_path = 'D:\\\\1024\\\\zip' \n",
    "    base_url = 'http://x1.wcnnedrb.top/pw/'\n",
    "    son_url = 'thread.php?fid=15'\n",
    "    urllist = all_page(base_url,son_url)#获取子页面所有链接\n",
    "\n",
    "    for url in urllist[:]:\n",
    "        time.sleep(1)#每爬完一个延迟1秒\n",
    "        #print(url)\n",
    "        resp = get_html(url)#返回结果\n",
    "        resp.encoding='utf-8' \n",
    "        web_data = resp.text\n",
    "        html = etree.HTML(web_data)\n",
    "        imgs_link = html.xpath('//div[@class = \"tpc_content\"]//img/@src')#获取图片链接\n",
    "        title = html.xpath('//h1[@class=\"b\"]//span[@id=\"subject_tpc\"]/text()')#获取页面名称作为保存路径\n",
    "        print(title)\n",
    "        mkdir(base_path,title[0])#创建文件夹\n",
    "        download(imgs_link)#从图片链接进行下载\n",
    "\n",
    "        \n",
    "    print(time.time() - t1)"
   ]
  },
  {
   "cell_type": "code",
   "execution_count": null,
   "metadata": {},
   "outputs": [],
   "source": []
  }
 ],
 "metadata": {
  "kernelspec": {
   "display_name": "Python 3",
   "language": "python",
   "name": "python3"
  },
  "language_info": {
   "codemirror_mode": {
    "name": "ipython",
    "version": 3
   },
   "file_extension": ".py",
   "mimetype": "text/x-python",
   "name": "python",
   "nbconvert_exporter": "python",
   "pygments_lexer": "ipython3",
   "version": "3.7.3"
  }
 },
 "nbformat": 4,
 "nbformat_minor": 2
}
