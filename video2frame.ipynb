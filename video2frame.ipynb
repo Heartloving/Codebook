{
 "cells": [
  {
   "cell_type": "code",
   "execution_count": 1,
   "metadata": {},
   "outputs": [
    {
     "name": "stdout",
     "output_type": "stream",
     "text": [
      "['VID_20190723_090428_SNAP.mp4', 'VID_20190723_151836_SNAP.mp4', 'VID_20190723_165824_SNAP.mp4', 'VID_20190723_171529_SNAP.mp4', 'VID_20190723_175737_SNAP.mp4', 'VID_20190723_180620_SNAP.mp4', 'VID_20190724_081254_SNAP.mp4', 'VID_20190724_081322_SNAP.mp4', 'VID_20190724_082106_SNAP.mp4']\n",
      "正在读取视频： VID_20190723_090428_SNAP.mp4\n",
      "正在创建'VID_20190723_090428_SNAP'文件夹\n",
      "读取成功!\n",
      "64\n"
     ]
    },
    {
     "name": "stderr",
     "output_type": "stream",
     "text": [
      "100%|████████████████████████████████████████████████████████████████████████| 64/64 [00:04<00:00, 15.26it/s]\n"
     ]
    },
    {
     "name": "stdout",
     "output_type": "stream",
     "text": [
      "正在读取视频： VID_20190723_151836_SNAP.mp4\n",
      "正在创建'VID_20190723_151836_SNAP'文件夹\n",
      "读取成功!\n",
      "384\n"
     ]
    },
    {
     "name": "stderr",
     "output_type": "stream",
     "text": [
      "100%|██████████████████████████████████████████████████████████████████████| 384/384 [00:25<00:00, 15.20it/s]\n"
     ]
    },
    {
     "name": "stdout",
     "output_type": "stream",
     "text": [
      "正在读取视频： VID_20190723_165824_SNAP.mp4\n",
      "正在创建'VID_20190723_165824_SNAP'文件夹\n",
      "读取成功!\n",
      "134\n"
     ]
    },
    {
     "name": "stderr",
     "output_type": "stream",
     "text": [
      "100%|██████████████████████████████████████████████████████████████████████| 134/134 [00:08<00:00, 14.91it/s]\n"
     ]
    },
    {
     "name": "stdout",
     "output_type": "stream",
     "text": [
      "正在读取视频： VID_20190723_171529_SNAP.mp4\n",
      "正在创建'VID_20190723_171529_SNAP'文件夹\n",
      "读取成功!\n",
      "21\n"
     ]
    },
    {
     "name": "stderr",
     "output_type": "stream",
     "text": [
      "100%|████████████████████████████████████████████████████████████████████████| 21/21 [00:01<00:00, 14.34it/s]\n"
     ]
    },
    {
     "name": "stdout",
     "output_type": "stream",
     "text": [
      "正在读取视频： VID_20190723_175737_SNAP.mp4\n",
      "正在创建'VID_20190723_175737_SNAP'文件夹\n",
      "读取成功!\n",
      "134\n"
     ]
    },
    {
     "name": "stderr",
     "output_type": "stream",
     "text": [
      "100%|██████████████████████████████████████████████████████████████████████| 134/134 [00:08<00:00, 15.94it/s]\n"
     ]
    },
    {
     "name": "stdout",
     "output_type": "stream",
     "text": [
      "正在读取视频： VID_20190723_180620_SNAP.mp4\n",
      "正在创建'VID_20190723_180620_SNAP'文件夹\n",
      "读取成功!\n",
      "44\n"
     ]
    },
    {
     "name": "stderr",
     "output_type": "stream",
     "text": [
      "100%|████████████████████████████████████████████████████████████████████████| 44/44 [00:02<00:00, 15.12it/s]\n"
     ]
    },
    {
     "name": "stdout",
     "output_type": "stream",
     "text": [
      "正在读取视频： VID_20190724_081254_SNAP.mp4\n",
      "正在创建'VID_20190724_081254_SNAP'文件夹\n",
      "读取成功!\n",
      "608\n"
     ]
    },
    {
     "name": "stderr",
     "output_type": "stream",
     "text": [
      "100%|██████████████████████████████████████████████████████████████████████| 608/608 [00:39<00:00, 15.32it/s]\n"
     ]
    },
    {
     "name": "stdout",
     "output_type": "stream",
     "text": [
      "正在读取视频： VID_20190724_081322_SNAP.mp4\n",
      "正在创建'VID_20190724_081322_SNAP'文件夹\n",
      "读取成功!\n",
      "175\n"
     ]
    },
    {
     "name": "stderr",
     "output_type": "stream",
     "text": [
      "100%|██████████████████████████████████████████████████████████████████████| 175/175 [00:11<00:00, 15.38it/s]\n"
     ]
    },
    {
     "name": "stdout",
     "output_type": "stream",
     "text": [
      "正在读取视频： VID_20190724_082106_SNAP.mp4\n",
      "正在创建'VID_20190724_082106_SNAP'文件夹\n",
      "读取成功!\n",
      "2\n"
     ]
    },
    {
     "name": "stderr",
     "output_type": "stream",
     "text": [
      "100%|██████████████████████████████████████████████████████████████████████████| 2/2 [00:00<00:00,  9.41it/s]\n"
     ]
    }
   ],
   "source": [
    "import os\n",
    "import cv2\n",
    "from tqdm import tqdm\n",
    "def video2frame(video_src_path, frame_save_path):\n",
    "    videos = os.listdir(video_src_path)\n",
    "    print(videos)\n",
    "    for video in videos:\n",
    "        print(\"正在读取视频：\", video)\n",
    "        video_name = video[:-4]\n",
    "        if video_name not in os.listdir(frame_save_path):\n",
    "            os.mkdir(frame_save_path + video_name)\n",
    "            print(\"正在创建'%s'文件夹\" % video_name)\n",
    "        save_path = os.path.join(frame_save_path, video_name) + \"/\"\n",
    "        video_path = os.path.join(video_src_path, video)\n",
    "        cap = cv2.VideoCapture(video_path)\n",
    "        #cap = cv2.VideoCapture(0)，参数0似乎可以打开电脑摄像头，参数是视频文件路径则打开视频\n",
    "        if cap.isOpened():\n",
    "            success = True\n",
    "            print(\"读取成功!\")\n",
    "        else:\n",
    "            success = False\n",
    "            print(\"读取失败!\")\n",
    "        totalFrameNumber = int(cap.get(cv2.CAP_PROP_FRAME_COUNT))\n",
    "        print(totalFrameNumber)\n",
    "        #frame_count = 0\n",
    "        for i in tqdm(range(totalFrameNumber)):\n",
    "        #while (success):\n",
    "            success, frame = cap.read()\n",
    "            if i % 3 ==0:  #帧间隔\n",
    "                # print(\"---> 正在保存第%d帧:\" % frame_count, success)\n",
    "                # resize_frame = cv2.resize(frame, (frame_width, frame_height), interpolation=cv2.INTER_AREA)#如果需要固定尺寸帧，可以resize\n",
    "                # cv2.imwrite(save_path + \"%d.jpg\" % frame_count, resize_frame)\n",
    "                cv2.imwrite(save_path + \"%d.jpg\" % i, frame)\n",
    "                # frame_count += 1\n",
    "\n",
    "    cap.release()\n",
    "if __name__ == '__main__':\n",
    "    videos_src_path = \"videos/\"#视频读取文件夹\n",
    "    frames_save_path = \"frames/\"#帧保存文件夹\n",
    "    video2frame(videos_src_path, frames_save_path)"
   ]
  },
  {
   "cell_type": "code",
   "execution_count": null,
   "metadata": {},
   "outputs": [],
   "source": []
  }
 ],
 "metadata": {
  "kernelspec": {
   "display_name": "Python 3",
   "language": "python",
   "name": "python3"
  },
  "language_info": {
   "codemirror_mode": {
    "name": "ipython",
    "version": 3
   },
   "file_extension": ".py",
   "mimetype": "text/x-python",
   "name": "python",
   "nbconvert_exporter": "python",
   "pygments_lexer": "ipython3",
   "version": "3.7.3"
  }
 },
 "nbformat": 4,
 "nbformat_minor": 2
}
